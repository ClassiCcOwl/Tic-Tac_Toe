{
  "cells": [
    {
      "cell_type": "markdown",
      "metadata": {
        "id": "view-in-github",
        "colab_type": "text"
      },
      "source": [
        "<a href=\"https://colab.research.google.com/github/ClassiCcOwl/Tic-Tac_Toe/blob/main/Welcome_To_Colaboratory.ipynb\" target=\"_parent\"><img src=\"https://colab.research.google.com/assets/colab-badge.svg\" alt=\"Open In Colab\"/></a>"
      ]
    },
    {
      "cell_type": "code",
      "source": [
        "from pprint import pprint"
      ],
      "metadata": {
        "id": "mwnCGcmMaaSU"
      },
      "execution_count": 1,
      "outputs": []
    },
    {
      "cell_type": "code",
      "source": [
        "theBoard = {\n",
        "    'top-L': 'X', 'top-M': ' ', 'top-R': ' ',\n",
        "    'mid-L': 'X', 'mid-M': 'O', 'mid-R': ' ',\n",
        "    'low-L': ' ', 'low-M': ' ', 'low-R': 'O'\n",
        "}"
      ],
      "metadata": {
        "id": "_YY14OxqYipE"
      },
      "execution_count": 18,
      "outputs": []
    },
    {
      "cell_type": "code",
      "source": [
        "pprint(theBoard)"
      ],
      "metadata": {
        "colab": {
          "base_uri": "https://localhost:8080/"
        },
        "id": "gUgTkMafaYlY",
        "outputId": "ec05aa4b-3663-4e3b-d4d7-c1df7347c283"
      },
      "execution_count": 10,
      "outputs": [
        {
          "output_type": "stream",
          "name": "stdout",
          "text": [
            "{'low-L': ' ',\n",
            " 'low-M': ' ',\n",
            " 'low-R': ' ',\n",
            " 'mid-L': ' ',\n",
            " 'mid-M': ' ',\n",
            " 'mid-R': ' ',\n",
            " 'top-L': 'X',\n",
            " 'top-M': ' ',\n",
            " 'top-R': ' '}\n"
          ]
        }
      ]
    },
    {
      "cell_type": "code",
      "source": [
        "def boardPrint(board):\n",
        "  boardItem = list(board.values())\n",
        "\n",
        "  print(\" \"+\" | \".join([*boardItem[:3]]))\n",
        "  print(\"---+---+---\")\n",
        "  print(\" \"+\" | \".join([*boardItem[3:6]]))\n",
        "  print(\"---+---+---\")\n",
        "  print(\" \"+\" | \".join([*boardItem[6:]]))\n",
        "\n",
        "boardPrint(theBoard)"
      ],
      "metadata": {
        "colab": {
          "base_uri": "https://localhost:8080/"
        },
        "id": "O3viTb27ahYQ",
        "outputId": "9bda8883-032a-4e7a-c538-2ded922cd5a9"
      },
      "execution_count": 22,
      "outputs": [
        {
          "output_type": "stream",
          "name": "stdout",
          "text": [
            " X |   |  \n",
            "---+---+---\n",
            " X | O |  \n",
            "---+---+---\n",
            "   |   | O\n"
          ]
        }
      ]
    },
    {
      "cell_type": "code",
      "source": [],
      "metadata": {
        "id": "NNjHoBnsazu1"
      },
      "execution_count": 4,
      "outputs": []
    }
  ],
  "metadata": {
    "colab": {
      "collapsed_sections": [],
      "name": "Welcome To Colaboratory",
      "provenance": [],
      "include_colab_link": true
    },
    "kernelspec": {
      "display_name": "Python 3",
      "name": "python3"
    }
  },
  "nbformat": 4,
  "nbformat_minor": 0
}