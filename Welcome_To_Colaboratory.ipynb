{
  "cells": [
    {
      "cell_type": "markdown",
      "metadata": {
        "id": "view-in-github",
        "colab_type": "text"
      },
      "source": [
        "<a href=\"https://colab.research.google.com/github/ClassiCcOwl/Tic-Tac_Toe/blob/main/Welcome_To_Colaboratory.ipynb\" target=\"_parent\"><img src=\"https://colab.research.google.com/assets/colab-badge.svg\" alt=\"Open In Colab\"/></a>"
      ]
    },
    {
      "cell_type": "code",
      "source": [
        "from pprint import pprint\n",
        "import os"
      ],
      "metadata": {
        "id": "mwnCGcmMaaSU"
      },
      "execution_count": 1,
      "outputs": []
    },
    {
      "cell_type": "code",
      "source": [
        "theBoard = {\n",
        "    'top-L': ' ', 'top-M': ' ', 'top-R': ' ',\n",
        "    'mid-L': ' ', 'mid-M': ' ', 'mid-R': ' ',\n",
        "    'low-L': ' ', 'low-M': ' ', 'low-R': ' '\n",
        "}"
      ],
      "metadata": {
        "id": "_YY14OxqYipE"
      },
      "execution_count": 2,
      "outputs": []
    },
    {
      "cell_type": "code",
      "source": [
        "pprint(theBoard)"
      ],
      "metadata": {
        "colab": {
          "base_uri": "https://localhost:8080/"
        },
        "id": "gUgTkMafaYlY",
        "outputId": "cf5f4407-1ad4-4039-dfe5-5f0a89fd307f"
      },
      "execution_count": 3,
      "outputs": [
        {
          "output_type": "stream",
          "name": "stdout",
          "text": [
            "{'low-L': ' ',\n",
            " 'low-M': ' ',\n",
            " 'low-R': ' ',\n",
            " 'mid-L': ' ',\n",
            " 'mid-M': ' ',\n",
            " 'mid-R': ' ',\n",
            " 'top-L': ' ',\n",
            " 'top-M': ' ',\n",
            " 'top-R': ' '}\n"
          ]
        }
      ]
    },
    {
      "cell_type": "code",
      "source": [
        "def boardPrint(board):\n",
        "  boardItem = list(board.values())\n",
        "\n",
        "  print(\" \"+\" | \".join([*boardItem[:3]]))\n",
        "  print(\"---+---+---\")\n",
        "  print(\" \"+\" | \".join([*boardItem[3:6]]))\n",
        "  print(\"---+---+---\")\n",
        "  print(\" \"+\" | \".join([*boardItem[6:]]))\n",
        "\n",
        "boardPrint(theBoard)"
      ],
      "metadata": {
        "colab": {
          "base_uri": "https://localhost:8080/"
        },
        "id": "O3viTb27ahYQ",
        "outputId": "e6a53f0c-6520-4cfd-ff9f-363e4cc81dc0"
      },
      "execution_count": 4,
      "outputs": [
        {
          "output_type": "stream",
          "name": "stdout",
          "text": [
            "   |   |  \n",
            "---+---+---\n",
            "   |   |  \n",
            "---+---+---\n",
            "   |   |  \n"
          ]
        }
      ]
    },
    {
      "cell_type": "code",
      "source": [
        "def win(board):\n",
        "  s = list(board.values())\n",
        "  r1 = [x for x in s[0:3]]\n",
        "  r2 = [x for x in s[3:6]]\n",
        "  r3 = [x for x in s[6:9]]\n",
        "\n",
        "  c1 = [x for x in s[0:8:3]]\n",
        "  c2 = [x for x in s[1:9:3]]\n",
        "  c3 = [x for x in s[2:10:3]]\n",
        "\n",
        "  d1 = [x for x in s[0:10:4]]\n",
        "  d2 = [x for x in s[2:8:2]]\n",
        "  \n",
        "  if r1.count(\"X\") == 3:\n",
        "    return(\"x wins\")\n",
        "  elif r1.count(\"O\") == 3:\n",
        "    return(\"o wins\")\n",
        "\n",
        "  if r2.count(\"X\") == 3:\n",
        "    return(\"x wins\")\n",
        "  elif r2.count(\"O\") == 3:\n",
        "    return(\"o wins\")\n",
        "  if r3.count(\"X\") == 3:\n",
        "    return(\"x wins\")\n",
        "  elif r3.count(\"O\") == 3:\n",
        "    return(\"o wins\")\n",
        "\n",
        "  if c1.count(\"X\") == 3:\n",
        "    return(\"x wins\")\n",
        "  elif c1.count(\"O\") == 3:\n",
        "    return(\"o wins\")\n",
        "\n",
        "  if c2.count(\"X\") == 3:\n",
        "    return(\"x wins\")\n",
        "  elif c2.count(\"O\") == 3:\n",
        "    return(\"o wins\")\n",
        "  if c3.count(\"X\") == 3:\n",
        "    return(\"x wins\")\n",
        "  elif c3.count(\"O\") == 3:\n",
        "    return(\"o wins\")\n",
        "\n",
        "\n",
        "  if d1.count(\"X\") == 3:\n",
        "    return(\"x wins\")\n",
        "  elif d1.count(\"O\") == 3:\n",
        "    return(\"o wins\")\n",
        "\n",
        "  if d2.count(\"X\") == 3:\n",
        "    return(\"x wins\")\n",
        "  elif d2.count(\"O\") == 3:\n",
        "    return(\"o wins\")\n",
        "  return False"
      ],
      "metadata": {
        "id": "PON0Jas7l3nx"
      },
      "execution_count": 5,
      "outputs": []
    },
    {
      "cell_type": "code",
      "source": [
        "turn = \"X\"\n",
        "available = list(theBoard.keys())\n",
        "for _ in range(9):\n",
        "  os.system(\"CLS\")\n",
        "  print(available)\n",
        "  boardPrint(theBoard)\n",
        "  print(f'Turn for \"{turn}\" Move on which space?')\n",
        "  move = input()\n",
        "  theBoard[move] = turn\n",
        "  cont = win(theBoard)\n",
        "  if not cont:\n",
        "    available.remove(move)\n",
        "    if turn == \"X\":\n",
        "      turn = \"O\"\n",
        "    else:\n",
        "      turn = \"X\"\n",
        "  else:\n",
        "    os.system(\"CLS\")\n",
        "    print(\"============\")\n",
        "    print(\"*****##*****\")\n",
        "    print(\"yohooo\" , cont.upper())\n",
        "    break\n",
        "\n",
        "boardPrint(theBoard)"
      ],
      "metadata": {
        "colab": {
          "base_uri": "https://localhost:8080/"
        },
        "id": "NNjHoBnsazu1",
        "outputId": "da92163f-056b-45f6-d03b-04371e52889e"
      },
      "execution_count": 7,
      "outputs": [
        {
          "output_type": "stream",
          "name": "stdout",
          "text": [
            "['top-L', 'top-M', 'top-R', 'mid-L', 'mid-M', 'mid-R', 'low-L', 'low-M', 'low-R']\n",
            "   |   |  \n",
            "---+---+---\n",
            "   |   |  \n",
            "---+---+---\n",
            "   |   |  \n",
            "Turn for \"X\" Move on which space?\n",
            "top-L\n",
            "['top-M', 'top-R', 'mid-L', 'mid-M', 'mid-R', 'low-L', 'low-M', 'low-R']\n",
            " X |   |  \n",
            "---+---+---\n",
            "   |   |  \n",
            "---+---+---\n",
            "   |   |  \n",
            "Turn for \"O\" Move on which space?\n",
            "low-R\n",
            "['top-M', 'top-R', 'mid-L', 'mid-M', 'mid-R', 'low-L', 'low-M']\n",
            " X |   |  \n",
            "---+---+---\n",
            "   |   |  \n",
            "---+---+---\n",
            "   |   | O\n",
            "Turn for \"X\" Move on which space?\n",
            "mid-L\n",
            "['top-M', 'top-R', 'mid-M', 'mid-R', 'low-L', 'low-M']\n",
            " X |   |  \n",
            "---+---+---\n",
            " X |   |  \n",
            "---+---+---\n",
            "   |   | O\n",
            "Turn for \"O\" Move on which space?\n",
            "top-R\n",
            "['top-M', 'mid-M', 'mid-R', 'low-L', 'low-M']\n",
            " X |   | O\n",
            "---+---+---\n",
            " X |   |  \n",
            "---+---+---\n",
            "   |   | O\n",
            "Turn for \"X\" Move on which space?\n",
            "mid-M\n",
            "['top-M', 'mid-R', 'low-L', 'low-M']\n",
            " X |   | O\n",
            "---+---+---\n",
            " X | X |  \n",
            "---+---+---\n",
            "   |   | O\n",
            "Turn for \"O\" Move on which space?\n",
            "top-M\n",
            "['mid-R', 'low-L', 'low-M']\n",
            " X | O | O\n",
            "---+---+---\n",
            " X | X |  \n",
            "---+---+---\n",
            "   |   | O\n",
            "Turn for \"X\" Move on which space?\n",
            "mid-R\n",
            "============\n",
            "*****##*****\n",
            "yohooo X WINS\n",
            " X | O | O\n",
            "---+---+---\n",
            " X | X | X\n",
            "---+---+---\n",
            "   |   | O\n"
          ]
        }
      ]
    },
    {
      "cell_type": "code",
      "source": [],
      "metadata": {
        "id": "C1iGVzo4ylxU"
      },
      "execution_count": null,
      "outputs": []
    }
  ],
  "metadata": {
    "colab": {
      "collapsed_sections": [],
      "name": "Welcome To Colaboratory",
      "provenance": [],
      "include_colab_link": true
    },
    "kernelspec": {
      "display_name": "Python 3",
      "name": "python3"
    }
  },
  "nbformat": 4,
  "nbformat_minor": 0
}