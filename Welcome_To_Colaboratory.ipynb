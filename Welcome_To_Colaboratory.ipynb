{
  "cells": [
    {
      "cell_type": "markdown",
      "metadata": {
        "id": "view-in-github",
        "colab_type": "text"
      },
      "source": [
        "<a href=\"https://colab.research.google.com/github/ClassiCcOwl/Tic-Tac_Toe/blob/main/Welcome_To_Colaboratory.ipynb\" target=\"_parent\"><img src=\"https://colab.research.google.com/assets/colab-badge.svg\" alt=\"Open In Colab\"/></a>"
      ]
    },
    {
      "cell_type": "code",
      "source": [
        "from pprint import pprint\n",
        "import os"
      ],
      "metadata": {
        "id": "mwnCGcmMaaSU"
      },
      "execution_count": 1,
      "outputs": []
    },
    {
      "cell_type": "code",
      "source": [
        "theBoard = {\n",
        "    'top-L': ' ', 'top-M': ' ', 'top-R': ' ',\n",
        "    'mid-L': ' ', 'mid-M': ' ', 'mid-R': ' ',\n",
        "    'low-L': ' ', 'low-M': ' ', 'low-R': ' '\n",
        "}"
      ],
      "metadata": {
        "id": "_YY14OxqYipE"
      },
      "execution_count": 2,
      "outputs": []
    },
    {
      "cell_type": "code",
      "source": [
        "pprint(theBoard)"
      ],
      "metadata": {
        "colab": {
          "base_uri": "https://localhost:8080/"
        },
        "id": "gUgTkMafaYlY",
        "outputId": "79e8d464-6115-4872-835c-49a0ad2f08c5"
      },
      "execution_count": 3,
      "outputs": [
        {
          "output_type": "stream",
          "name": "stdout",
          "text": [
            "{'low-L': ' ',\n",
            " 'low-M': ' ',\n",
            " 'low-R': ' ',\n",
            " 'mid-L': ' ',\n",
            " 'mid-M': ' ',\n",
            " 'mid-R': ' ',\n",
            " 'top-L': ' ',\n",
            " 'top-M': ' ',\n",
            " 'top-R': ' '}\n"
          ]
        }
      ]
    },
    {
      "cell_type": "code",
      "source": [
        "def boardPrint(board):\n",
        "  boardItem = list(board.values())\n",
        "\n",
        "  print(\" \"+\" | \".join([*boardItem[:3]]))\n",
        "  print(\"---+---+---\")\n",
        "  print(\" \"+\" | \".join([*boardItem[3:6]]))\n",
        "  print(\"---+---+---\")\n",
        "  print(\" \"+\" | \".join([*boardItem[6:]]))\n",
        "\n",
        "boardPrint(theBoard)"
      ],
      "metadata": {
        "colab": {
          "base_uri": "https://localhost:8080/"
        },
        "id": "O3viTb27ahYQ",
        "outputId": "3fd1b109-7d76-41a3-d8ba-4c20906ada37"
      },
      "execution_count": 4,
      "outputs": [
        {
          "output_type": "stream",
          "name": "stdout",
          "text": [
            "   |   |  \n",
            "---+---+---\n",
            "   |   |  \n",
            "---+---+---\n",
            "   |   |  \n"
          ]
        }
      ]
    },
    {
      "cell_type": "code",
      "source": [
        "turn = \"X\"\n",
        "available = list(theBoard.keys())\n",
        "for _ in range(9):\n",
        "  os.system(\"CLS\")\n",
        "  print(available)\n",
        "  boardPrint(theBoard)\n",
        "  print(f'Turn for {turn}. Move on which space?')\n",
        "  move = input()\n",
        "  theBoard[move] = turn\n",
        "  available.remove(move)\n",
        "  if turn == \"X\":\n",
        "    turn = \"O\"\n",
        "  else:\n",
        "    turn = \"X\"\n",
        "boardPrint(theBoard)"
      ],
      "metadata": {
        "id": "NNjHoBnsazu1"
      },
      "execution_count": null,
      "outputs": []
    },
    {
      "cell_type": "code",
      "source": [],
      "metadata": {
        "id": "PON0Jas7l3nx"
      },
      "execution_count": null,
      "outputs": []
    }
  ],
  "metadata": {
    "colab": {
      "collapsed_sections": [],
      "name": "Welcome To Colaboratory",
      "provenance": [],
      "include_colab_link": true
    },
    "kernelspec": {
      "display_name": "Python 3",
      "name": "python3"
    }
  },
  "nbformat": 4,
  "nbformat_minor": 0
}